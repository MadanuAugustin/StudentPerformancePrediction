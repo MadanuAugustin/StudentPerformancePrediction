{
 "cells": [
  {
   "cell_type": "code",
   "execution_count": 1,
   "id": "fa160093-38f4-4823-a497-638095a00517",
   "metadata": {},
   "outputs": [],
   "source": [
    "import os\n",
    "from dataclasses import dataclass"
   ]
  },
  {
   "cell_type": "code",
   "execution_count": 9,
   "id": "2439f3d2-00ca-47fd-8da8-ed5f7139488c",
   "metadata": {},
   "outputs": [],
   "source": [
    "@dataclass\n",
    "class ModelTrainerConfig:\n",
    "    trained_model_file_path = os.path.join('artifacts', 'model.pkl')\n",
    "\n",
    "# This class is responsible for storing the trained model in the artifacts directory"
   ]
  },
  {
   "cell_type": "code",
   "execution_count": 10,
   "id": "f1cd014a-21b2-472c-8be4-db1c6050fc7f",
   "metadata": {},
   "outputs": [],
   "source": [
    "obj = ModelTrainerConfig()"
   ]
  },
  {
   "cell_type": "code",
   "execution_count": 11,
   "id": "e3dca998-91a1-4f3e-ab6c-c5f934e781a9",
   "metadata": {},
   "outputs": [
    {
     "data": {
      "text/plain": [
       "'artifacts\\\\model.pkl'"
      ]
     },
     "execution_count": 11,
     "metadata": {},
     "output_type": "execute_result"
    }
   ],
   "source": [
    "obj.trained_model_file_path"
   ]
  },
  {
   "cell_type": "code",
   "execution_count": null,
   "id": "9832e8cd-c184-4a41-b671-7fc3642fe512",
   "metadata": {},
   "outputs": [],
   "source": []
  },
  {
   "cell_type": "code",
   "execution_count": 17,
   "id": "b4ec91eb-3c72-496d-970d-4586bd383242",
   "metadata": {},
   "outputs": [
    {
     "ename": "SyntaxError",
     "evalue": "incomplete input (2034909586.py, line 7)",
     "output_type": "error",
     "traceback": [
      "\u001b[1;36m  Cell \u001b[1;32mIn[17], line 7\u001b[1;36m\u001b[0m\n\u001b[1;33m    try:\u001b[0m\n\u001b[1;37m        ^\u001b[0m\n\u001b[1;31mSyntaxError\u001b[0m\u001b[1;31m:\u001b[0m incomplete input\n"
     ]
    }
   ],
   "source": [
    "class ModelTrainer:\n",
    "    def __init__(self):\n",
    "        self.model_trainer_config = ModelTrainerConfig()\n",
    "\n",
    "\n",
    "    def initiate_model_trainer(self, train_array, test_array):\n",
    "        try:\n",
    "            X_train, y_train, X_test, y_test = (train_array[:, :-1], train_array[:, -1], test_array[:, :-1], test_array[:, -1])\n",
    "\n",
    "            models = {\n",
    "                \"RandomForest\" : RandomForestRegressor(),\n",
    "                \"DecisionTree\" : DecisionTreeRegressor(),\n",
    "                \"GradientBoostingRegressor\": GradientBoostingRegressor(),\n",
    "                \"LinearRegressor\" : LinearRegression(),\n",
    "                \"KNeighborsRegressor\" : KNeighborsRegressor(),\n",
    "                \"XGBRegressor\" : XGBRegressor(),\n",
    "                \"AdaBoostRegressor\" : AdaBoostRegressor()\n",
    "            }"
   ]
  },
  {
   "cell_type": "code",
   "execution_count": 14,
   "id": "86b40eed-a24d-48a8-abdb-a3f3a511f913",
   "metadata": {},
   "outputs": [],
   "source": [
    "myobject = ModelTrainer()"
   ]
  },
  {
   "cell_type": "code",
   "execution_count": 16,
   "id": "c1f07782-ff58-4490-a4d9-ec806317554a",
   "metadata": {},
   "outputs": [
    {
     "data": {
      "text/plain": [
       "'artifacts\\\\model.pkl'"
      ]
     },
     "execution_count": 16,
     "metadata": {},
     "output_type": "execute_result"
    }
   ],
   "source": [
    "myobject.model_trainer_config.trained_model_file_path"
   ]
  },
  {
   "cell_type": "code",
   "execution_count": null,
   "id": "82e83b7b-baaf-4e3d-a586-fc161e7bcbb7",
   "metadata": {},
   "outputs": [],
   "source": []
  },
  {
   "cell_type": "code",
   "execution_count": null,
   "id": "fc2e4302-fe0b-45ea-b6b3-108a8e380354",
   "metadata": {},
   "outputs": [],
   "source": []
  },
  {
   "cell_type": "code",
   "execution_count": null,
   "id": "5752e2b4-bc38-4df9-96d1-40fedaba9094",
   "metadata": {},
   "outputs": [],
   "source": []
  },
  {
   "cell_type": "code",
   "execution_count": null,
   "id": "3decebee-f63d-4a10-85e8-0d003408c047",
   "metadata": {},
   "outputs": [],
   "source": []
  },
  {
   "cell_type": "code",
   "execution_count": null,
   "id": "2ccf7ba0-ab9f-4094-b2bb-1f4548b0e74f",
   "metadata": {},
   "outputs": [],
   "source": []
  },
  {
   "cell_type": "code",
   "execution_count": null,
   "id": "8b8b1178-de6b-4235-b938-f116bf77f5e6",
   "metadata": {},
   "outputs": [],
   "source": []
  },
  {
   "cell_type": "code",
   "execution_count": null,
   "id": "368e0a37-2a0a-4e0e-adae-68baf06c8f05",
   "metadata": {},
   "outputs": [],
   "source": []
  },
  {
   "cell_type": "code",
   "execution_count": null,
   "id": "62f2fccc-437f-495a-a9dc-2f45e5025651",
   "metadata": {},
   "outputs": [],
   "source": []
  },
  {
   "cell_type": "code",
   "execution_count": null,
   "id": "ad1d8c33-6e3f-47e9-a6c2-1d8bb175f90e",
   "metadata": {},
   "outputs": [],
   "source": []
  },
  {
   "cell_type": "code",
   "execution_count": null,
   "id": "d412b59a-f3f8-4e7e-b31e-40cd6651a3fc",
   "metadata": {},
   "outputs": [],
   "source": []
  },
  {
   "cell_type": "code",
   "execution_count": 19,
   "id": "e8f1a3cb-1e10-4ecc-be3b-df8882f9a9e3",
   "metadata": {},
   "outputs": [],
   "source": [
    "from sklearn.ensemble import AdaBoostRegressor, GradientBoostingRegressor, RandomForestRegressor\n",
    "from sklearn.linear_model import LinearRegression\n",
    "from sklearn.metrics import r2_score\n",
    "from sklearn.neighbors import KNeighborsRegressor\n",
    "from sklearn.tree import DecisionTreeRegressor\n",
    "from xgboost import XGBRegressor"
   ]
  },
  {
   "cell_type": "code",
   "execution_count": null,
   "id": "0900a81e-f018-4149-b7fa-b5c83009730f",
   "metadata": {},
   "outputs": [],
   "source": []
  },
  {
   "cell_type": "code",
   "execution_count": 83,
   "id": "bc070b49-2fcd-4416-9b3d-71131846f402",
   "metadata": {},
   "outputs": [],
   "source": [
    "models = {\n",
    "                \"RandomForest\" : 10,\n",
    "                \"DecisionTree\" : 20,\n",
    "                \"GradientBoostingRegressor\": 30,\n",
    "                \"LinearRegressor\" : 40,\n",
    "                \"KNeighborsRegressor\" : 50,\n",
    "                \"XGBRegressor\" : 60,\n",
    "                \"AdaBoostRegressor\" : 70\n",
    "            }"
   ]
  },
  {
   "cell_type": "code",
   "execution_count": 84,
   "id": "18d4b45f-5bd8-40b2-a382-c0aa3e7c018f",
   "metadata": {},
   "outputs": [
    {
     "data": {
      "text/plain": [
       "dict_keys(['RandomForest', 'DecisionTree', 'GradientBoostingRegressor', 'LinearRegressor', 'KNeighborsRegressor', 'XGBRegressor', 'AdaBoostRegressor'])"
      ]
     },
     "execution_count": 84,
     "metadata": {},
     "output_type": "execute_result"
    }
   ],
   "source": [
    "models.keys()"
   ]
  },
  {
   "cell_type": "code",
   "execution_count": 85,
   "id": "716df01c-eb18-4e24-b07a-0a3d234cdfdd",
   "metadata": {},
   "outputs": [
    {
     "data": {
      "text/plain": [
       "dict_values([10, 20, 30, 40, 50, 60, 70])"
      ]
     },
     "execution_count": 85,
     "metadata": {},
     "output_type": "execute_result"
    }
   ],
   "source": [
    "models.values()"
   ]
  },
  {
   "cell_type": "code",
   "execution_count": 53,
   "id": "f726d923-a19e-4afc-af83-67eec54f65e1",
   "metadata": {},
   "outputs": [
    {
     "name": "stdout",
     "output_type": "stream",
     "text": [
      "RandomForest\n",
      "DecisionTree\n",
      "GradientBoostingRegressor\n",
      "LinearRegressor\n",
      "KNeighborsRegressor\n",
      "XGBRegressor\n",
      "AdaBoostRegressor\n"
     ]
    }
   ],
   "source": [
    "for i in models.keys():\n",
    "    print(i)"
   ]
  },
  {
   "cell_type": "code",
   "execution_count": 56,
   "id": "711a5bcf-b291-4035-83c3-086d133b131e",
   "metadata": {},
   "outputs": [
    {
     "name": "stdout",
     "output_type": "stream",
     "text": [
      "RandomForestRegressor()\n",
      "DecisionTreeRegressor()\n",
      "GradientBoostingRegressor()\n",
      "LinearRegression()\n",
      "KNeighborsRegressor()\n",
      "XGBRegressor(base_score=None, booster=None, callbacks=None,\n",
      "             colsample_bylevel=None, colsample_bynode=None,\n",
      "             colsample_bytree=None, device=None, early_stopping_rounds=None,\n",
      "             enable_categorical=False, eval_metric=None, feature_types=None,\n",
      "             gamma=None, grow_policy=None, importance_type=None,\n",
      "             interaction_constraints=None, learning_rate=None, max_bin=None,\n",
      "             max_cat_threshold=None, max_cat_to_onehot=None,\n",
      "             max_delta_step=None, max_depth=None, max_leaves=None,\n",
      "             min_child_weight=None, missing=nan, monotone_constraints=None,\n",
      "             multi_strategy=None, n_estimators=None, n_jobs=None,\n",
      "             num_parallel_tree=None, random_state=None, ...)\n",
      "AdaBoostRegressor()\n"
     ]
    }
   ],
   "source": [
    "for i in models.values():\n",
    "    print(i)"
   ]
  },
  {
   "cell_type": "code",
   "execution_count": null,
   "id": "8e98e2c9-22b2-4a16-b717-3151ab889dcc",
   "metadata": {},
   "outputs": [],
   "source": []
  },
  {
   "cell_type": "code",
   "execution_count": null,
   "id": "a1d96f49-a3b0-43c1-a247-ca46a78edad1",
   "metadata": {},
   "outputs": [],
   "source": []
  },
  {
   "cell_type": "code",
   "execution_count": null,
   "id": "1f229cfb-6ec5-4ba5-89f9-de04ed2bbdc6",
   "metadata": {},
   "outputs": [],
   "source": [
    "evaluate_models()"
   ]
  },
  {
   "cell_type": "code",
   "execution_count": null,
   "id": "11de2728-ee2f-4cd8-9924-ad7b3ee11a5a",
   "metadata": {},
   "outputs": [],
   "source": [
    "model_report : dict=evaluate_models(X_train=X_train, y_train=y_train, X_test=X_test, y_test=y_test, models=models)\n"
   ]
  },
  {
   "cell_type": "code",
   "execution_count": 80,
   "id": "3a3cf101-1c80-484a-88cb-bb5003568ddf",
   "metadata": {},
   "outputs": [],
   "source": [
    "xyz : abc = models"
   ]
  },
  {
   "cell_type": "code",
   "execution_count": 81,
   "id": "d3225c66-444a-403b-b86b-6c3f85a67dcd",
   "metadata": {},
   "outputs": [
    {
     "data": {
      "text/plain": [
       "{'RandomForest': RandomForestRegressor(),\n",
       " 'DecisionTree': DecisionTreeRegressor(),\n",
       " 'GradientBoostingRegressor': GradientBoostingRegressor(),\n",
       " 'LinearRegressor': LinearRegression(),\n",
       " 'KNeighborsRegressor': KNeighborsRegressor(),\n",
       " 'XGBRegressor': XGBRegressor(base_score=None, booster=None, callbacks=None,\n",
       "              colsample_bylevel=None, colsample_bynode=None,\n",
       "              colsample_bytree=None, device=None, early_stopping_rounds=None,\n",
       "              enable_categorical=False, eval_metric=None, feature_types=None,\n",
       "              gamma=None, grow_policy=None, importance_type=None,\n",
       "              interaction_constraints=None, learning_rate=None, max_bin=None,\n",
       "              max_cat_threshold=None, max_cat_to_onehot=None,\n",
       "              max_delta_step=None, max_depth=None, max_leaves=None,\n",
       "              min_child_weight=None, missing=nan, monotone_constraints=None,\n",
       "              multi_strategy=None, n_estimators=None, n_jobs=None,\n",
       "              num_parallel_tree=None, random_state=None, ...),\n",
       " 'AdaBoostRegressor': AdaBoostRegressor()}"
      ]
     },
     "execution_count": 81,
     "metadata": {},
     "output_type": "execute_result"
    }
   ],
   "source": [
    "abc"
   ]
  },
  {
   "cell_type": "code",
   "execution_count": 82,
   "id": "f91deb49-b469-445c-b999-fe84afa9a762",
   "metadata": {},
   "outputs": [
    {
     "data": {
      "text/plain": [
       "{'RandomForest': RandomForestRegressor(),\n",
       " 'DecisionTree': DecisionTreeRegressor(),\n",
       " 'GradientBoostingRegressor': GradientBoostingRegressor(),\n",
       " 'LinearRegressor': LinearRegression(),\n",
       " 'KNeighborsRegressor': KNeighborsRegressor(),\n",
       " 'XGBRegressor': XGBRegressor(base_score=None, booster=None, callbacks=None,\n",
       "              colsample_bylevel=None, colsample_bynode=None,\n",
       "              colsample_bytree=None, device=None, early_stopping_rounds=None,\n",
       "              enable_categorical=False, eval_metric=None, feature_types=None,\n",
       "              gamma=None, grow_policy=None, importance_type=None,\n",
       "              interaction_constraints=None, learning_rate=None, max_bin=None,\n",
       "              max_cat_threshold=None, max_cat_to_onehot=None,\n",
       "              max_delta_step=None, max_depth=None, max_leaves=None,\n",
       "              min_child_weight=None, missing=nan, monotone_constraints=None,\n",
       "              multi_strategy=None, n_estimators=None, n_jobs=None,\n",
       "              num_parallel_tree=None, random_state=None, ...),\n",
       " 'AdaBoostRegressor': AdaBoostRegressor()}"
      ]
     },
     "execution_count": 82,
     "metadata": {},
     "output_type": "execute_result"
    }
   ],
   "source": [
    "xyz"
   ]
  },
  {
   "cell_type": "code",
   "execution_count": null,
   "id": "c1ac8e82-cfec-470f-8d15-7b31c4f82c95",
   "metadata": {},
   "outputs": [],
   "source": []
  },
  {
   "cell_type": "code",
   "execution_count": null,
   "id": "1d812d5d-2990-428d-8559-45cd86a43d03",
   "metadata": {},
   "outputs": [],
   "source": [
    "best_model_name = list(model_report.keys())[list(model_report.values()).index(best_model_score)]"
   ]
  },
  {
   "cell_type": "code",
   "execution_count": 86,
   "id": "b1cac9ad-e342-4e76-9828-e3eb9d1586d8",
   "metadata": {},
   "outputs": [
    {
     "data": {
      "text/plain": [
       "{'RandomForest': 10,\n",
       " 'DecisionTree': 20,\n",
       " 'GradientBoostingRegressor': 30,\n",
       " 'LinearRegressor': 40,\n",
       " 'KNeighborsRegressor': 50,\n",
       " 'XGBRegressor': 60,\n",
       " 'AdaBoostRegressor': 70}"
      ]
     },
     "execution_count": 86,
     "metadata": {},
     "output_type": "execute_result"
    }
   ],
   "source": [
    "models"
   ]
  },
  {
   "cell_type": "code",
   "execution_count": null,
   "id": "87e6079e-0339-4aba-8efc-e4f7195d94bb",
   "metadata": {},
   "outputs": [],
   "source": []
  },
  {
   "cell_type": "code",
   "execution_count": 88,
   "id": "b3c209bb-82c3-4370-8768-a7d7903aa328",
   "metadata": {},
   "outputs": [
    {
     "data": {
      "text/plain": [
       "['RandomForest',\n",
       " 'DecisionTree',\n",
       " 'GradientBoostingRegressor',\n",
       " 'LinearRegressor',\n",
       " 'KNeighborsRegressor',\n",
       " 'XGBRegressor',\n",
       " 'AdaBoostRegressor']"
      ]
     },
     "execution_count": 88,
     "metadata": {},
     "output_type": "execute_result"
    }
   ],
   "source": [
    "xyz"
   ]
  },
  {
   "cell_type": "code",
   "execution_count": 89,
   "id": "eccd0ba2-12ac-4362-89e2-b3c4f015c2f5",
   "metadata": {},
   "outputs": [
    {
     "data": {
      "text/plain": [
       "[10, 20, 30, 40, 50, 60, 70]"
      ]
     },
     "execution_count": 89,
     "metadata": {},
     "output_type": "execute_result"
    }
   ],
   "source": [
    "qgd = list(models.values())\n",
    "qgd"
   ]
  },
  {
   "cell_type": "code",
   "execution_count": null,
   "id": "945f7317-d34e-451f-8660-2f673b3f957d",
   "metadata": {},
   "outputs": [],
   "source": []
  },
  {
   "cell_type": "code",
   "execution_count": null,
   "id": "e256566d-9f28-4ef3-b9c6-868edb49930b",
   "metadata": {},
   "outputs": [],
   "source": []
  },
  {
   "cell_type": "code",
   "execution_count": null,
   "id": "aeb6c391-acf0-4c6e-b10b-de2bdd2ff29a",
   "metadata": {},
   "outputs": [],
   "source": []
  }
 ],
 "metadata": {
  "kernelspec": {
   "display_name": "Python 3 (ipykernel)",
   "language": "python",
   "name": "python3"
  },
  "language_info": {
   "codemirror_mode": {
    "name": "ipython",
    "version": 3
   },
   "file_extension": ".py",
   "mimetype": "text/x-python",
   "name": "python",
   "nbconvert_exporter": "python",
   "pygments_lexer": "ipython3",
   "version": "3.11.3"
  }
 },
 "nbformat": 4,
 "nbformat_minor": 5
}
